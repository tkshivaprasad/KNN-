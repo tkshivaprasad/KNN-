{
 "cells": [
  {
   "cell_type": "code",
   "execution_count": 31,
   "metadata": {},
   "outputs": [
    {
     "name": "stdout",
     "output_type": "stream",
     "text": [
      "\n",
      " XNEW \n",
      " [[5.  2.9 1.  0.2]]\n",
      "\n",
      " Predicted target value: [0]\n",
      "\n",
      "\n",
      " Predicted feature name: ['setosa']\n",
      "\n"
     ]
    }
   ],
   "source": [
    "kn = KNeighborsClassifier(n_neighbors=1)\n",
    "kn.fit(X_train, y_train)\n",
    "x_new = np.array([[5, 2.9, 1, 0.2]])\n",
    "print(\"\\n XNEW \\n\",x_new)\n",
    "prediction = kn.predict(x_new)\n",
    "print(\"\\n Predicted target value: {}\\n\".format(prediction)) \n",
    "print(\"\\n Predicted feature name: {}\\n\".format(iris_dataset[\"target_names\"][prediction]))\n",
    "\n",
    "\n"
   ]
  },
  {
   "cell_type": "code",
   "execution_count": 32,
   "metadata": {},
   "outputs": [
    {
     "name": "stdout",
     "output_type": "stream",
     "text": [
      "\n",
      " XNEW \n",
      " [[6.  2.2 4.  1. ]]\n",
      "\n",
      " Actual : 2 virginica, Predicted :[2]['virginica']\n",
      "\n",
      " Actual : 1 versicolor, Predicted :[1]['versicolor']\n",
      "\n",
      " Actual : 0 setosa, Predicted :[0]['setosa']\n",
      "\n",
      " Actual : 2 virginica, Predicted :[2]['virginica']\n",
      "\n",
      " Actual : 0 setosa, Predicted :[0]['setosa']\n",
      "\n",
      " Actual : 2 virginica, Predicted :[2]['virginica']\n",
      "\n",
      " Actual : 0 setosa, Predicted :[0]['setosa']\n",
      "\n",
      " Actual : 1 versicolor, Predicted :[1]['versicolor']\n",
      "\n",
      " Actual : 1 versicolor, Predicted :[1]['versicolor']\n",
      "\n",
      " Actual : 1 versicolor, Predicted :[1]['versicolor']\n",
      "\n",
      " Actual : 2 virginica, Predicted :[2]['virginica']\n",
      "\n",
      " Actual : 1 versicolor, Predicted :[1]['versicolor']\n",
      "\n",
      " Actual : 1 versicolor, Predicted :[1]['versicolor']\n",
      "\n",
      " Actual : 1 versicolor, Predicted :[1]['versicolor']\n",
      "\n",
      " Actual : 1 versicolor, Predicted :[1]['versicolor']\n",
      "\n",
      " Actual : 0 setosa, Predicted :[0]['setosa']\n",
      "\n",
      " Actual : 1 versicolor, Predicted :[1]['versicolor']\n",
      "\n",
      " Actual : 1 versicolor, Predicted :[1]['versicolor']\n",
      "\n",
      " Actual : 0 setosa, Predicted :[0]['setosa']\n",
      "\n",
      " Actual : 0 setosa, Predicted :[0]['setosa']\n",
      "\n",
      " Actual : 2 virginica, Predicted :[2]['virginica']\n",
      "\n",
      " Actual : 1 versicolor, Predicted :[1]['versicolor']\n",
      "\n",
      " Actual : 0 setosa, Predicted :[0]['setosa']\n",
      "\n",
      " Actual : 0 setosa, Predicted :[0]['setosa']\n",
      "\n",
      " Actual : 2 virginica, Predicted :[2]['virginica']\n",
      "\n",
      " Actual : 0 setosa, Predicted :[0]['setosa']\n",
      "\n",
      " Actual : 0 setosa, Predicted :[0]['setosa']\n",
      "\n",
      " Actual : 1 versicolor, Predicted :[1]['versicolor']\n",
      "\n",
      " Actual : 1 versicolor, Predicted :[1]['versicolor']\n",
      "\n",
      " Actual : 0 setosa, Predicted :[0]['setosa']\n",
      "\n",
      " Actual : 2 virginica, Predicted :[2]['virginica']\n",
      "\n",
      " Actual : 1 versicolor, Predicted :[1]['versicolor']\n",
      "\n",
      " Actual : 0 setosa, Predicted :[0]['setosa']\n",
      "\n",
      " Actual : 2 virginica, Predicted :[2]['virginica']\n",
      "\n",
      " Actual : 2 virginica, Predicted :[2]['virginica']\n",
      "\n",
      " Actual : 1 versicolor, Predicted :[1]['versicolor']\n",
      "\n",
      " Actual : 0 setosa, Predicted :[0]['setosa']\n",
      "\n",
      " Actual : 1 versicolor, Predicted :[2]['virginica']\n",
      "\n",
      " TEST SCORE[ACCURACY]: 0.97\n",
      "\n"
     ]
    }
   ],
   "source": [
    "i=1\n",
    "x= X_test[i]\n",
    "x_new = np.array([x])\n",
    "print(\"\\n XNEW \\n\",x_new)\n",
    "for i in range(len(X_test)): \n",
    "    x = X_test[i]\n",
    "    x_new = np.array([x]) \n",
    "    prediction = kn.predict(x_new)\n",
    "    print(\"\\n Actual : {0} {1}, Predicted :{2}{3}\".format(y_test[i],iris_dataset[\"target_names\"][y_test[i]],prediction,iris_dataset[\"target_names\"][ prediction]))\n",
    "print(\"\\n TEST SCORE[ACCURACY]: {:.2f}\\n\".format(kn.score(X_test, y_test)))\n",
    "\n"
   ]
  },
  {
   "cell_type": "code",
   "execution_count": null,
   "metadata": {},
   "outputs": [],
   "source": []
  }
 ],
 "metadata": {
  "kernelspec": {
   "display_name": "Python 3",
   "language": "python",
   "name": "python3"
  },
  "language_info": {
   "codemirror_mode": {
    "name": "ipython",
    "version": 3
   },
   "file_extension": ".py",
   "mimetype": "text/x-python",
   "name": "python",
   "nbconvert_exporter": "python",
   "pygments_lexer": "ipython3",
   "version": "3.6.4"
  }
 },
 "nbformat": 4,
 "nbformat_minor": 2
}
